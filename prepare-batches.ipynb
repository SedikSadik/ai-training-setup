{
 "cells": [
  {
   "cell_type": "code",
   "execution_count": 1,
   "metadata": {},
   "outputs": [],
   "source": [
    "import os\n",
    "import cv2\n",
    "import shutil\n",
    "\n"
   ]
  },
  {
   "cell_type": "code",
   "execution_count": null,
   "metadata": {},
   "outputs": [],
   "source": [
    "## GATHER ALL IMAGES TO ONE PLACE\n",
    "\n",
    "DIRPATH = \"contents/pre-processing-photos\"\n",
    "if not os.path.isdir(DIRPATH):\n",
    "    os.mkdir(DIRPATH)\n",
    "\n",
    "counter = 1\n",
    "problematic_files = 0\n",
    "for dirpath, dirname, filenames in os.walk(\"contents\"):\n",
    "    for filename in filenames:\n",
    "        filepath = f\"{dirpath}/{filename}\"\n",
    "        # print(filepath)\n",
    "        \n",
    "        if filepath.endswith(\".png\"):\n",
    "            try:\n",
    "                image = cv2.imread(filepath)\n",
    "                # print(f\"WRITING {filepath} to \\n/{DIRPATH}/photo{counter}.png \")\n",
    "                \n",
    "                cv2.imwrite(f\"{DIRPATH}/photo{counter}.png\", image)\n",
    "                if counter%10==0:\n",
    "                    print(f\"PNG count: {counter}\")\n",
    "                counter += 1\n",
    "            except Exception as e:\n",
    "                # print(e)\n",
    "                problematic_files+=1\n",
    "\n",
    "print(f\"Problematic files count: {problematic_files}\")\n"
   ]
  },
  {
   "cell_type": "code",
   "execution_count": null,
   "metadata": {},
   "outputs": [],
   "source": [
    "## MAKE A JPG COPY OF EVERY PNG FILE\n",
    "JPGDIR = \"contents/jpgs\"\n",
    "if not os.path.isdir(JPGDIR):\n",
    "    os.mkdir(JPGDIR)\n",
    "\n",
    "counter = 1\n",
    "problematic_files = 0\n",
    "for dirpath, dirname, filenames in os.walk(\"contents/pre-processing-photos\"):\n",
    "    for filename in filenames:\n",
    "        filepath = f\"{dirpath}/{filename}\"\n",
    "        # print(filepath)\n",
    "        if filepath.endswith(\".png\"):\n",
    "            try:\n",
    "                image = cv2.imread(filepath)\n",
    "                # print(f\"WRITING jpgs/{filename[:-4]}.jpg \")\n",
    "                # input()\n",
    "                cv2.imwrite(f\"{JPGDIR}/{filename[:-4]}.jpg\", image)\n",
    "                if counter%20 ==0:\n",
    "                    print(f\"JPG count: {counter}\")\n",
    "                counter += 1\n",
    "            except Exception as e:\n",
    "                print(e)\n",
    "                problematic_files+=1\n",
    "print(f\"Problematic files count: {problematic_files}\")\n",
    "\n"
   ]
  },
  {
   "cell_type": "code",
   "execution_count": 4,
   "metadata": {},
   "outputs": [
    {
     "name": "stdout",
     "output_type": "stream",
     "text": [
      "Photo count: 3719\n"
     ]
    }
   ],
   "source": [
    "## FIND PHOTO COUNT\n",
    "dir_path = \"contents/jpgs/\"\n",
    "photo_count = 0\n",
    "# Iterate directory\n",
    "for path in os.listdir(dir_path):\n",
    "    # check if current path is a file\n",
    "    if os.path.isfile(os.path.join(dir_path, path)):\n",
    "        photo_count += 1\n",
    "print('Photo count:', photo_count)\n",
    "batch_count = photo_count//300 +1"
   ]
  },
  {
   "cell_type": "code",
   "execution_count": 5,
   "metadata": {},
   "outputs": [
    {
     "data": {
      "text/plain": [
       "13"
      ]
     },
     "execution_count": 5,
     "metadata": {},
     "output_type": "execute_result"
    }
   ],
   "source": [
    "batch_count"
   ]
  },
  {
   "cell_type": "code",
   "execution_count": 8,
   "metadata": {},
   "outputs": [],
   "source": [
    "## SPLIT ALL PHOTOS INTO BATCHES\n",
    "\n",
    "BATCHDIR = \"contents/batches\"\n",
    "if not os.path.isdir(BATCHDIR):\n",
    "    os.mkdir(BATCHDIR)\n",
    "\n",
    "for i in range(batch_count):\n",
    "    _batch_path = f\"{BATCHDIR}/batch{i+1}\"\n",
    "    if not os.path.isdir(_batch_path):\n",
    "        os.mkdir(_batch_path)\n",
    "\n",
    "\n",
    "batch_number = 1\n",
    "batch_photo_count = 0\n",
    "for dirpath, dirname, filenames in os.walk(\"contents/jpgs\"):\n",
    "    for filename in filenames:\n",
    "        filepath = f\"{dirpath}/{filename}\"\n",
    "        # print(filepath)\n",
    "        if filepath.endswith(\".jpg\"):\n",
    "            shutil.copy(filepath,f\"{BATCHDIR}/batch{batch_number}\")\n",
    "            batch_photo_count+=1\n",
    "        \n",
    "        if batch_photo_count ==300:\n",
    "            batch_number+=1\n",
    "            batch_photo_count=0\n",
    "\n",
    "            \n",
    "\n"
   ]
  },
  {
   "cell_type": "code",
   "execution_count": 11,
   "metadata": {},
   "outputs": [],
   "source": [
    "## ZIP ALL BATCH FILES\n",
    "if not os.path.isdir(\"contents/zips\"):\n",
    "    os.mkdir(\"contents/zips\")\n",
    "for i in range(batch_number):\n",
    "    shutil.make_archive(f\"contents/zips/batch{i+1}\", \"zip\", f\"contents/batches/batch{i+1}/\")\n",
    "    "
   ]
  }
 ],
 "metadata": {
  "kernelspec": {
   "display_name": "Python 3.8.10 64-bit",
   "language": "python",
   "name": "python3"
  },
  "language_info": {
   "codemirror_mode": {
    "name": "ipython",
    "version": 3
   },
   "file_extension": ".py",
   "mimetype": "text/x-python",
   "name": "python",
   "nbconvert_exporter": "python",
   "pygments_lexer": "ipython3",
   "version": "3.8.10"
  },
  "orig_nbformat": 4,
  "vscode": {
   "interpreter": {
    "hash": "31f2aee4e71d21fbe5cf8b01ff0e069b9275f58929596ceb00d14d90e3e16cd6"
   }
  }
 },
 "nbformat": 4,
 "nbformat_minor": 2
}
